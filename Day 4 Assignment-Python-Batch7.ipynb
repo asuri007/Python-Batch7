{
 "cells": [
  {
   "cell_type": "code",
   "execution_count": 8,
   "metadata": {},
   "outputs": [
    {
     "name": "stdout",
     "output_type": "stream",
     "text": [
      "\n",
      "Please Enter the Number to Check for Armstrong: 153\n",
      "\n",
      " 153 is Armstrong Number.\n",
      "\n"
     ]
    }
   ],
   "source": [
    "# Python Program For Armstrong Number using While Loop\n",
    "\n",
    "Number = int(input(\"\\nPlease Enter the Number to Check for Armstrong: \"))\n",
    "\n",
    "# Initializing Sum and Number of Digits\n",
    "Sum = 0\n",
    "Times = 0\n",
    "           \n",
    "# Calculating Number of individual digits\n",
    "Temp = Number\n",
    "while Temp > 0:\n",
    "           Times = Times + 1\n",
    "           Temp = Temp // 10\n",
    "\n",
    "# Finding Armstrong Number\n",
    "Temp = Number\n",
    "while Temp > 0:\n",
    "           Reminder = Temp % 10\n",
    "           Sum = Sum + (Reminder ** Times)\n",
    "           Temp //= 10\n",
    "if Number == Sum:\n",
    "           print(\"\\n %d is Armstrong Number.\\n\" %Number)\n",
    "else:\n",
    "           print(\"\\n %d is Not a Armstrong Number.\\n\" %Number)"
   ]
  },
  {
   "cell_type": "code",
   "execution_count": 5,
   "metadata": {},
   "outputs": [],
   "source": []
  },
  {
   "cell_type": "code",
   "execution_count": null,
   "metadata": {},
   "outputs": [],
   "source": []
  },
  {
   "cell_type": "code",
   "execution_count": null,
   "metadata": {},
   "outputs": [],
   "source": []
  }
 ],
 "metadata": {
  "kernelspec": {
   "display_name": "Python 3",
   "language": "python",
   "name": "python3"
  },
  "language_info": {
   "codemirror_mode": {
    "name": "ipython",
    "version": 3
   },
   "file_extension": ".py",
   "mimetype": "text/x-python",
   "name": "python",
   "nbconvert_exporter": "python",
   "pygments_lexer": "ipython3",
   "version": "3.8.3"
  }
 },
 "nbformat": 4,
 "nbformat_minor": 4
}
